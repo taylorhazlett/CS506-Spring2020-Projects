{
 "cells": [
  {
   "cell_type": "markdown",
   "metadata": {},
   "source": [
    "# Imports and Filter Definitions"
   ]
  },
  {
   "cell_type": "code",
   "execution_count": 1,
   "metadata": {},
   "outputs": [],
   "source": [
    "import pandas as pd\n",
    "import numpy as np\n",
    "import requests\n",
    "from pprint import pprint"
   ]
  },
  {
   "cell_type": "code",
   "execution_count": 2,
   "metadata": {},
   "outputs": [],
   "source": [
    "accepted_codes = ['910','911','912','913','914','915','916','917','918','919','920','921','922', \\\n",
    "                  '923','924','925','926','927','928','929','970','971','972','973','974','975']\n",
    "\n",
    "def filter_luc(dataframe):\n",
    "    \"\"\"filters by land use codes affiliated with MA state agencies\n",
    "    \"\"\"\n",
    "    return dataframe[dataframe['luc_1'].isin(accepted_codes) | \\\n",
    "            dataframe['luc_2'].isin(accepted_codes) | \\\n",
    "            dataframe['luc_adj_1'].isin(accepted_codes)| \\\n",
    "            dataframe['luc_adj_2'].isin(accepted_codes)]\n",
    "\n",
    "def filter_bldg(dataframe):\n",
    "    '''\n",
    "    Filter on related columns that indicate whether building(s) are present on the land parcel.\n",
    "    Removes rows that correspond to land parcels that do not contain buildings.\n",
    "    Ziba specified: \n",
    "        bldg_value - for condos, generally includes land value\n",
    "        bldg_area - may include garages, stairwells, basements, and other uninhabitable areas.\n",
    "        bldgv_psf - building value $ per sq foot\n",
    "    Additional: \n",
    "        sqm_bldg - parcel area estimated to be covered by a building (sq meters)\n",
    "        pct_bldg - % parcel area estimated to be covered by a building \n",
    "    '''\n",
    "    \n",
    "    return dataframe.query('bldg_value > 0 | \\\n",
    "                           bldg_area > 0 | \\\n",
    "                           bldgv_psf > 0 | \\\n",
    "                           sqm_bldg > 0 | \\\n",
    "                           pct_bldg > 0')"
   ]
  },
  {
   "cell_type": "markdown",
   "metadata": {},
   "source": [
    "# Test single request"
   ]
  },
  {
   "cell_type": "code",
   "execution_count": 92,
   "metadata": {},
   "outputs": [
    {
     "name": "stdout",
     "output_type": "stream",
     "text": [
      "{'result': {'input': {'benchmark': {'id': '9', 'benchmarkName': 'Public_AR_Census2010', 'benchmarkDescription': 'Public Address Ranges - Census 2010 Benchmark', 'isDefault': False}, 'vintage': {'id': '910', 'vintageName': 'Census2010_Census2010', 'vintageDescription': 'Census2010 Vintage - Census2010 Benchmark', 'isDefault': True}, 'address': {'street': '4600 Silver Hill Rd', 'city': 'Suitland', 'state': 'MD'}}, 'addressMatches': [{'matchedAddress': '4600 Silver Hill Rd, SUITLAND, MD, 20746', 'coordinates': {'x': -76.92691, 'y': 38.846542}, 'tigerLine': {'tigerLineId': '613199520', 'side': 'L'}, 'addressComponents': {'fromAddress': '4600', 'toAddress': '4712', 'preQualifier': '', 'preDirection': '', 'preType': '', 'streetName': 'Silver Hill', 'suffixType': 'Rd', 'suffixDirection': '', 'suffixQualifier': '', 'city': 'SUITLAND', 'state': 'MD', 'zip': '20746'}, 'geographies': {'Census Blocks': [{'SUFFIX': '', 'POP100': 0, 'GEOID': '240338024051084', 'CENTLAT': '+38.8477828', 'BLOCK': '1084', 'AREAWATER': 0, 'STATE': '24', 'BASENAME': '1084', 'OID': 210403970691471, 'LSADC': 'BK', 'FUNCSTAT': 'S', 'INTPTLAT': '+38.8477828', 'NAME': 'Block 1084', 'OBJECTID': 4385889, 'TRACT': '802405', 'CENTLON': '-076.9266698', 'BLKGRP': '1', 'AREALAND': 33460, 'HU100': 0, 'INTPTLON': '-076.9266698', 'MTFCC': 'G5040', 'LWBLKTYP': 'L', 'UR': '', 'COUNTY': '033'}]}}]}}\n"
     ]
    }
   ],
   "source": [
    "# test single address request\n",
    "\n",
    "URL = \"https://geocoding.geo.census.gov/geocoder/geographies/address?street=4600+Silver+Hill+Rd&\" + \\\n",
    "    \"city=Suitland&state=MD&benchmark=Public_AR_Census2010&vintage=Census2010_Census2010&layer\" + \\\n",
    "    \"s=14&format=json\"\n",
    "  \n",
    "r = requests.get(url = URL)\n",
    "\n",
    "data = r.json()\n",
    "\n",
    "print(data)"
   ]
  },
  {
   "cell_type": "code",
   "execution_count": 139,
   "metadata": {},
   "outputs": [
    {
     "name": "stdout",
     "output_type": "stream",
     "text": [
      "{'errors': ['Specify street with city and state or zip']}\n"
     ]
    }
   ],
   "source": [
    "# test single address request\n",
    "\n",
    "URL = \"https://geocoding.geo.census.gov/geocoder/geographies/address?street=4600+Silver+Hill+Rd&\" + \\\n",
    "    \"&state=MD&benchmark=Public_AR_Census2010&vintage=Census2010_Census2010&layer\" + \\\n",
    "    \"s=14&format=json\"\n",
    "  \n",
    "r = requests.get(url = URL)\n",
    "\n",
    "data = r.json()\n",
    "\n",
    "print(data)"
   ]
  },
  {
   "cell_type": "code",
   "execution_count": 99,
   "metadata": {},
   "outputs": [
    {
     "name": "stdout",
     "output_type": "stream",
     "text": [
      "{'result': {'addressMatches': [{'addressComponents': {'city': 'SUITLAND',\n",
      "                                                      'fromAddress': '4600',\n",
      "                                                      'preDirection': '',\n",
      "                                                      'preQualifier': '',\n",
      "                                                      'preType': '',\n",
      "                                                      'state': 'MD',\n",
      "                                                      'streetName': 'Silver '\n",
      "                                                                    'Hill',\n",
      "                                                      'suffixDirection': '',\n",
      "                                                      'suffixQualifier': '',\n",
      "                                                      'suffixType': 'Rd',\n",
      "                                                      'toAddress': '4712',\n",
      "                                                      'zip': '20746'},\n",
      "                                'coordinates': {'x': -76.92691, 'y': 38.846542},\n",
      "                                'geographies': {'Census Blocks': [{'AREALAND': 33460,\n",
      "                                                                   'AREAWATER': 0,\n",
      "                                                                   'BASENAME': '1084',\n",
      "                                                                   'BLKGRP': '1',\n",
      "                                                                   'BLOCK': '1084',\n",
      "                                                                   'CENTLAT': '+38.8477828',\n",
      "                                                                   'CENTLON': '-076.9266698',\n",
      "                                                                   'COUNTY': '033',\n",
      "                                                                   'FUNCSTAT': 'S',\n",
      "                                                                   'GEOID': '240338024051084',\n",
      "                                                                   'HU100': 0,\n",
      "                                                                   'INTPTLAT': '+38.8477828',\n",
      "                                                                   'INTPTLON': '-076.9266698',\n",
      "                                                                   'LSADC': 'BK',\n",
      "                                                                   'LWBLKTYP': 'L',\n",
      "                                                                   'MTFCC': 'G5040',\n",
      "                                                                   'NAME': 'Block '\n",
      "                                                                           '1084',\n",
      "                                                                   'OBJECTID': 4385889,\n",
      "                                                                   'OID': 210403970691471,\n",
      "                                                                   'POP100': 0,\n",
      "                                                                   'STATE': '24',\n",
      "                                                                   'SUFFIX': '',\n",
      "                                                                   'TRACT': '802405',\n",
      "                                                                   'UR': ''}]},\n",
      "                                'matchedAddress': '4600 Silver Hill Rd, '\n",
      "                                                  'SUITLAND, MD, 20746',\n",
      "                                'tigerLine': {'side': 'L',\n",
      "                                              'tigerLineId': '613199520'}}],\n",
      "            'input': {'address': {'city': 'Suitland',\n",
      "                                  'state': 'MD',\n",
      "                                  'street': '4600 Silver Hill Rd'},\n",
      "                      'benchmark': {'benchmarkDescription': 'Public Address '\n",
      "                                                            'Ranges - Census '\n",
      "                                                            '2010 Benchmark',\n",
      "                                    'benchmarkName': 'Public_AR_Census2010',\n",
      "                                    'id': '9',\n",
      "                                    'isDefault': False},\n",
      "                      'vintage': {'id': '910',\n",
      "                                  'isDefault': True,\n",
      "                                  'vintageDescription': 'Census2010 Vintage - '\n",
      "                                                        'Census2010 Benchmark',\n",
      "                                  'vintageName': 'Census2010_Census2010'}}}}\n"
     ]
    }
   ],
   "source": [
    "pprint(data)"
   ]
  },
  {
   "cell_type": "code",
   "execution_count": 116,
   "metadata": {},
   "outputs": [
    {
     "name": "stdout",
     "output_type": "stream",
     "text": [
      "802405\n"
     ]
    }
   ],
   "source": [
    "tract = data['result']['addressMatches'][0]['geographies']['Census Blocks'][0]['TRACT']\n",
    "print(tract)"
   ]
  },
  {
   "cell_type": "markdown",
   "metadata": {},
   "source": [
    "# Single Request Function Definition"
   ]
  },
  {
   "cell_type": "code",
   "execution_count": 126,
   "metadata": {},
   "outputs": [
    {
     "name": "stdout",
     "output_type": "stream",
     "text": [
      "\\oak+maplewood+road\\\n"
     ]
    }
   ],
   "source": [
    "# test clean-up of street address\n",
    "addr_str = ' oak maplewood road '\n",
    "\n",
    "street_split = addr_str.split()\n",
    "addr_str_formatted = ''\n",
    "# remove extra white spaces\n",
    "for i in range(len(street_split)):\n",
    "    if (not street_split[i].isspace()):\n",
    "        addr_str_formatted = addr_str_formatted + street_split[i]\n",
    "        \n",
    "        if (i != len(street_split)-1):\n",
    "            addr_str_formatted = addr_str_formatted + '+'\n",
    "        \n",
    "print('\\\\' + addr_str_formatted + '\\\\')"
   ]
  },
  {
   "cell_type": "code",
   "execution_count": 45,
   "metadata": {},
   "outputs": [],
   "source": [
    "def get_tract_number(addr_num, addr_str, addr_zip=None):\n",
    "    '''\n",
    "        Makes a REST API request to Census Geocoder API and returns a tract number for a given address.\n",
    "        Inputs:\n",
    "            - addr_num = street number, can be a range of street numbers, e.g. 200-400\n",
    "            - addr_str = street name\n",
    "            - addr_zip = zip code\n",
    "        Note: addr_num, addr_str, and addr_zip are all required fields! If any are unavailable, then the request fails.\n",
    "            This is despite the API documentation stating that zip code is an optional field.\n",
    "    '''\n",
    "    # remove any extra white space in the addr_num field\n",
    "    addr_num = str(addr_num).replace(\" \", \"\")\n",
    "    addr_str = addr_str.replace('#', \"\")\n",
    "    \n",
    "    # join separate words in street name with '+'\n",
    "    street_split = addr_str.split()\n",
    "    addr_str_formatted = ''\n",
    "    # remove extra white spaces\n",
    "    for i in range(len(street_split)):\n",
    "        if (not street_split[i].isspace()):\n",
    "            addr_str_formatted = addr_str_formatted + street_split[i]\n",
    "\n",
    "            if (i != len(street_split)-1):\n",
    "                addr_str_formatted = addr_str_formatted + '+'\n",
    "    \n",
    "    URL = \"https://geocoding.geo.census.gov/geocoder/geographies/address?street=\" + addr_num + \"+\" \\\n",
    "        + addr_str_formatted\n",
    "    \n",
    "    if (addr_zip is not None and addr_zip):\n",
    "        URL = URL + \"&zip=\" + str(addr_zip).replace(\" \", \"\")\n",
    "    \n",
    "    URL = URL + \"&benchmark=Public_AR_Census2010&vintage=Census2010_Census2010\" + \\\n",
    "        \"&layers=14&format=json\"\n",
    "\n",
    "    response = requests.get(url = URL)\n",
    "    tract = np.nan\n",
    "    \n",
    "    if (response.status_code == 200):\n",
    "        data = response.json()\n",
    "        pprint(data)\n",
    "        if (len(data['result']['addressMatches']) > 0):\n",
    "            # if data['result']['addressMatches'][0]['geographies']['Census Blocks'][0]['TRACT']:\n",
    "            tract = data['result']['addressMatches'][0]['geographies']['Census Blocks'][0]['TRACT']\n",
    "    \n",
    "    return tract"
   ]
  },
  {
   "cell_type": "code",
   "execution_count": 237,
   "metadata": {},
   "outputs": [
    {
     "name": "stdout",
     "output_type": "stream",
     "text": [
      "418002\n",
      "418002\n",
      "418002\n"
     ]
    }
   ],
   "source": [
    "# test function\n",
    "\n",
    "print(get_tract_number(200, 'falls blvd', '02169 '))\n",
    "print(get_tract_number('200', 'falls blvd ', '02169'))\n",
    "print(get_tract_number('200-400', 'falls blvd', '02169'))"
   ]
  },
  {
   "cell_type": "markdown",
   "metadata": {},
   "source": [
    "# Batch Request Code & Testing Below (unsuccessful)"
   ]
  },
  {
   "cell_type": "code",
   "execution_count": 89,
   "metadata": {},
   "outputs": [],
   "source": [
    "def get_geocode_info(dataframe):\n",
    "    '''\n",
    "    Makes a batch GET request to Census Geocoder API.\n",
    "    Dataframe must include street address.\n",
    "    Optional fields: City, State, ZIP\n",
    "    '''\n",
    "    \n",
    "    def format_csv(dataframe):\n",
    "        '''\n",
    "        Helper function that takes pandas dataframe list of addresses and converts it to appropriate csv format\n",
    "        necessary for REST API request.\n",
    "\n",
    "        Format columns as following:\n",
    "        Unique ID, Street address, City, State, ZIP\n",
    "        where City, State, ZIP are optional fields but file must contain a placeholder comma if left blank.\n",
    "        '''\n",
    "\n",
    "        # land parcel data only has addr_num, addr_str, and addr_zip fields\n",
    "        df = land_parcel_df[['addr_num', 'addr_str', 'addr_zip']]\n",
    "\n",
    "        # copy over indices to be unique id column\n",
    "        df['Unique ID'] = dataframe.index\n",
    "\n",
    "        # drop rows where addr_num or addr_str are null\n",
    "        df.dropna(subset=['addr_num', 'addr_str'], inplace=True)\n",
    "\n",
    "        # concatenate addr_num and addr_str into single column\n",
    "        df['Street address'] = df['addr_num'].astype(str) + ' ' + df['addr_str']\n",
    "\n",
    "        # add empty columns for city and state, so that csv file is correctly formatted with commas for blanks\n",
    "        df['City'] = ''\n",
    "        df['State'] = ''\n",
    "        df['ZIP'] = df['addr_zip']\n",
    "\n",
    "        # replace nans in ZIP with blanks\n",
    "        df[df['addr_zip'].isnull()] = ''\n",
    "\n",
    "        df.drop(columns=['addr_num', 'addr_str', 'addr_zip'])\n",
    "\n",
    "        df = df[['Unique ID', 'Street address', 'City', 'State', 'ZIP']]\n",
    "\n",
    "        # drop rows that are completely blank\n",
    "        df.dropna(how='all')\n",
    "\n",
    "        df.to_csv('geocode_format.csv', index=False, header=False)\n",
    "    \n",
    "    # creates formatted csv file that gets saved to current directory as 'geocode_format.csv'\n",
    "    format_csv(dataframe)\n",
    "    csv_file = open('geocode_format.csv', 'r')\n",
    "    \n",
    "    # geographies contains the State, County, Tract, and Block layers by default\n",
    "    returntype = 'geographies' # locations (just geocoding response) or geographies (geocoding response + geoLookup)\n",
    "    BATCH_GEOCODE_URL = \"https://geocoding.geo.census.gov/geocoder/\" + returntype + \"/addressbatch\"\n",
    "\n",
    "    PARAMS = {'returntype': returntype, \\\n",
    "              'benchmark': 'Public_AR_Census2010', \\\n",
    "              'vintage': 'Census2010_Census2010', \\\n",
    "             'addressFile': csv_file} \n",
    "    \n",
    "    r = requests.get(url = URL, params = PARAMS)\n",
    "\n",
    "    output_csv = open('geocode_result.csv', 'w')\n",
    "    output_csv.write(r.text)\n",
    "    output_csv.close()"
   ]
  },
  {
   "cell_type": "code",
   "execution_count": 80,
   "metadata": {},
   "outputs": [
    {
     "name": "stdout",
     "output_type": "stream",
     "text": [
      "400\n",
      "Bad Request\n"
     ]
    }
   ],
   "source": [
    "import httplib2\n",
    "\n",
    "h = httplib2.Http()\n",
    "\n",
    "csv_file = open('test.csv')\n",
    "\n",
    "# geographies contains the State, County, Tract, and Block layers by default\n",
    "returntype = 'geographies' # locations (just geocoding response) or geographies (geocoding response + geoLookup)\n",
    "BATCH_GEOCODE_URL = \"https://geocoding.geo.census.gov/geocoder/\" + returntype + \"/addressbatch\"\n",
    "\n",
    "PARAMS = {'benchmark': 'Public_AR_Census2010', \\\n",
    "            'vintage': 'Census2010_Census2010'} \n",
    "\n",
    "resp, content = h.request(BATCH_GEOCODE_URL, \\\n",
    "                          method=\"GET\", \\\n",
    "                          body = csv_file, \\\n",
    "                          headers = PARAMS)\n",
    "\n",
    "print(resp.status)\n",
    "print(resp.reason)"
   ]
  },
  {
   "cell_type": "code",
   "execution_count": 82,
   "metadata": {},
   "outputs": [
    {
     "name": "stdout",
     "output_type": "stream",
     "text": [
      "<Response [400]>\n"
     ]
    }
   ],
   "source": [
    "csv_file = open('test.csv', 'r')\n",
    "    \n",
    "# geographies contains the State, County, Tract, and Block layers by default\n",
    "returntype = 'geographies' # locations (just geocoding response) or geographies (geocoding response + geoLookup)\n",
    "BATCH_GEOCODE_URL = \"https://geocoding.geo.census.gov/geocoder/\" + returntype + \"/addressbatch\"\n",
    "\n",
    "PARAMS = {'benchmark': 'Public_AR_Census2010', \\\n",
    "          'vintage': 'Census2010_Census2010', \\\n",
    "         'addressFile': csv_file} \n",
    "\n",
    "r = requests.get(url = URL, params = PARAMS)\n",
    "\n",
    "print(r)\n",
    "\n",
    "# output_csv = open('geocode_result.csv', 'w')\n",
    "# output_csv.write(r.text)\n",
    "# output_csv.close()"
   ]
  },
  {
   "cell_type": "markdown",
   "metadata": {},
   "source": [
    "# Main program"
   ]
  },
  {
   "cell_type": "code",
   "execution_count": 4,
   "metadata": {},
   "outputs": [
    {
     "name": "stderr",
     "output_type": "stream",
     "text": [
      "C:\\Users\\xsmil\\Anaconda3\\lib\\site-packages\\IPython\\core\\interactiveshell.py:3058: DtypeWarning: Columns (6,14,17,18,34) have mixed types. Specify dtype option on import or set low_memory=False.\n",
      "  interactivity=interactivity, compiler=compiler, result=result)\n"
     ]
    }
   ],
   "source": [
    "df = pd.read_csv('../data/land_parcel/mapc.ma_parcels_metrofuture.csv', \\\n",
    "                 dtype={'addr_zip': np.string_}) # zip codes need to be imported as string in order to retain leading 0\n",
    "\n",
    "land_parcel_df = filter_luc(df)\n",
    "land_parcel_df = filter_bldg(land_parcel_df) # filter on top of the filtered table"
   ]
  },
  {
   "cell_type": "code",
   "execution_count": 5,
   "metadata": {},
   "outputs": [],
   "source": [
    "# reset indices in order to refer to rows by index in for loop below\n",
    "# keeps original index values in new column 'index'\n",
    "land_parcel_df = land_parcel_df.reset_index()"
   ]
  },
  {
   "cell_type": "code",
   "execution_count": 17,
   "metadata": {},
   "outputs": [
    {
     "name": "stdout",
     "output_type": "stream",
     "text": [
      "Step:  0\n",
      "Current Time = 16:32:51\n",
      "Step:  100\n",
      "Current Time = 16:33:50\n",
      "Step:  200\n",
      "Current Time = 16:34:25\n",
      "Step:  300\n",
      "Current Time = 16:35:12\n",
      "Step:  400\n",
      "Current Time = 16:35:38\n",
      "Step:  500\n",
      "Current Time = 16:35:50\n",
      "Step:  600\n",
      "Current Time = 16:36:43\n",
      "Step:  700\n",
      "Current Time = 16:37:01\n",
      "Step:  800\n",
      "Current Time = 16:37:39\n",
      "Step:  900\n",
      "Current Time = 16:38:31\n",
      "Step:  1000\n",
      "Current Time = 16:39:12\n",
      "Step:  1100\n",
      "Current Time = 16:39:19\n",
      "Step:  1200\n",
      "Current Time = 16:39:20\n",
      "Step:  1300\n",
      "Current Time = 16:39:59\n",
      "Step:  1400\n",
      "Current Time = 16:40:32\n",
      "Step:  1500\n",
      "Current Time = 16:41:00\n",
      "Step:  1600\n",
      "Current Time = 16:41:15\n",
      "Step:  1700\n",
      "Current Time = 16:42:12\n",
      "Step:  1800\n",
      "Current Time = 16:43:14\n",
      "Step:  1900\n",
      "Current Time = 16:43:29\n",
      "Step:  2000\n",
      "Current Time = 16:43:55\n",
      "Step:  2100\n",
      "Current Time = 16:44:26\n",
      "Step:  2200\n",
      "Current Time = 16:45:02\n",
      "Step:  2300\n",
      "Current Time = 16:45:51\n",
      "Step:  2400\n",
      "Current Time = 16:46:53\n",
      "Step:  2500\n",
      "Current Time = 16:47:52\n",
      "Step:  2600\n",
      "Current Time = 16:48:43\n",
      "Step:  2700\n",
      "Current Time = 16:49:14\n",
      "Step:  2800\n",
      "Current Time = 16:50:17\n",
      "Step:  2900\n",
      "Current Time = 16:50:46\n",
      "Step:  3000\n",
      "Current Time = 16:51:06\n",
      "Step:  3100\n",
      "Current Time = 16:51:48\n"
     ]
    }
   ],
   "source": [
    "from datetime import datetime\n",
    "\n",
    "land_parcel_df['census_tract'] = np.nan\n",
    "\n",
    "for i in range(3200):\n",
    "    # in order to make request, need street address (number & street name), AND zip code\n",
    "    addr_num = str(land_parcel_df.iloc[i]['addr_num']).replace(\" \", \"\")\n",
    "    addr_str = land_parcel_df.iloc[i]['addr_str']\n",
    "    addr_zip = str(land_parcel_df.iloc[i]['addr_zip']).replace(\" \", \"\")\n",
    "    \n",
    "    #print(i, addr_num, addr_str, addr_zip)\n",
    "    if (i % 100 == 0):\n",
    "        print('Step: ', i)\n",
    "        print(\"Current Time =\", datetime.now().strftime(\"%H:%M:%S\"))\n",
    "    \n",
    "    # check for any blanks or nan values\n",
    "    if not ((not addr_num or addr_num == 'nan') \\\n",
    "        or (not addr_str or addr_str == 'nan') \\\n",
    "        or (not addr_zip or addr_zip == 'nan')):\n",
    "            tract = get_tract_number(addr_num, addr_str, addr_zip)\n",
    "            land_parcel_df.at[i, 'census_tract'] = tract"
   ]
  },
  {
   "cell_type": "code",
   "execution_count": 37,
   "metadata": {},
   "outputs": [
    {
     "name": "stdout",
     "output_type": "stream",
     "text": [
      "Step:  3200\n",
      "Current Time = 17:00:16\n",
      "Error at step:  3249\n",
      "Step:  3300\n",
      "Current Time = 17:01:15\n",
      "Step:  3400\n",
      "Current Time = 17:01:28\n"
     ]
    }
   ],
   "source": [
    "for i in range(3200,len(land_parcel_df)):\n",
    "    # in order to make request, need street address (number & street name), AND zip code\n",
    "    addr_num = str(land_parcel_df.iloc[i]['addr_num']).replace(\" \", \"\")\n",
    "    addr_str = land_parcel_df.iloc[i]['addr_str']\n",
    "    addr_zip = str(land_parcel_df.iloc[i]['addr_zip']).replace(\" \", \"\")\n",
    "\n",
    "    #print(i, addr_num, addr_str, addr_zip)\n",
    "    if (i % 100 == 0):\n",
    "        print('Step: ', i)\n",
    "        print(\"Current Time =\", datetime.now().strftime(\"%H:%M:%S\"))\n",
    "\n",
    "    # check for any blanks or nan values\n",
    "    if not ((not addr_num or addr_num == 'nan') \\\n",
    "        or (not addr_str or addr_str == 'nan') \\\n",
    "        or (not addr_zip or addr_zip == 'nan')):\n",
    "            try:\n",
    "                tract = get_tract_number(addr_num, addr_str, addr_zip)\n",
    "                land_parcel_df.at[i, 'census_tract'] = tract\n",
    "            except:\n",
    "                print('Error at step: ', i)"
   ]
  },
  {
   "cell_type": "code",
   "execution_count": 47,
   "metadata": {},
   "outputs": [
    {
     "data": {
      "text/plain": [
       "1       520202\n",
       "2       266300\n",
       "3       266300\n",
       "4       266300\n",
       "5       266400\n",
       "         ...  \n",
       "3320    408101\n",
       "3321    408102\n",
       "3323    408102\n",
       "3324    408102\n",
       "3438    367200\n",
       "Name: census_tract, Length: 1167, dtype: object"
      ]
     },
     "execution_count": 47,
     "metadata": {},
     "output_type": "execute_result"
    }
   ],
   "source": [
    "land_parcel_df.loc[land_parcel_df['census_tract'].notna(), 'census_tract']"
   ]
  },
  {
   "cell_type": "markdown",
   "metadata": {},
   "source": [
    "# Obtain Median Household Income Estimate by Census Tract for MA"
   ]
  },
  {
   "cell_type": "code",
   "execution_count": 12,
   "metadata": {},
   "outputs": [],
   "source": [
    "def get_median_hh_income():\n",
    "    '''\n",
    "    Returns Pandas DataFrame representation Median Household Income Estimate by Census Tract for MA.\n",
    "    American Community Survey (ACS) 2018 Census data used.\n",
    "    Specific table: ACS 2018 5-year detailed table \"B19013_001E\"\n",
    "    '''\n",
    "    URL = \"https://api.census.gov/data/2018/acs/acs5?get=B19013_001E&for=tract:*&in=state:25\"\n",
    "  \n",
    "    response = requests.get(url = URL)\n",
    "    data = response.json()\n",
    "\n",
    "    # pprint(data)\n",
    "    \n",
    "    median_income_df = pd.DataFrame(data[1:len(data)-1], columns = data[0])\n",
    "    \n",
    "    return median_income_df"
   ]
  },
  {
   "cell_type": "code",
   "execution_count": 13,
   "metadata": {},
   "outputs": [],
   "source": [
    "median_income_df = get_median_hh_income()"
   ]
  },
  {
   "cell_type": "code",
   "execution_count": 14,
   "metadata": {},
   "outputs": [
    {
     "data": {
      "text/html": [
       "<div>\n",
       "<style scoped>\n",
       "    .dataframe tbody tr th:only-of-type {\n",
       "        vertical-align: middle;\n",
       "    }\n",
       "\n",
       "    .dataframe tbody tr th {\n",
       "        vertical-align: top;\n",
       "    }\n",
       "\n",
       "    .dataframe thead th {\n",
       "        text-align: right;\n",
       "    }\n",
       "</style>\n",
       "<table border=\"1\" class=\"dataframe\">\n",
       "  <thead>\n",
       "    <tr style=\"text-align: right;\">\n",
       "      <th></th>\n",
       "      <th>B19013_001E</th>\n",
       "      <th>state</th>\n",
       "      <th>county</th>\n",
       "      <th>tract</th>\n",
       "    </tr>\n",
       "  </thead>\n",
       "  <tbody>\n",
       "    <tr>\n",
       "      <td>0</td>\n",
       "      <td>132750</td>\n",
       "      <td>25</td>\n",
       "      <td>025</td>\n",
       "      <td>060501</td>\n",
       "    </tr>\n",
       "    <tr>\n",
       "      <td>1</td>\n",
       "      <td>12759</td>\n",
       "      <td>25</td>\n",
       "      <td>025</td>\n",
       "      <td>061101</td>\n",
       "    </tr>\n",
       "    <tr>\n",
       "      <td>2</td>\n",
       "      <td>84083</td>\n",
       "      <td>25</td>\n",
       "      <td>025</td>\n",
       "      <td>070101</td>\n",
       "    </tr>\n",
       "    <tr>\n",
       "      <td>3</td>\n",
       "      <td>28851</td>\n",
       "      <td>25</td>\n",
       "      <td>025</td>\n",
       "      <td>070402</td>\n",
       "    </tr>\n",
       "    <tr>\n",
       "      <td>4</td>\n",
       "      <td>52676</td>\n",
       "      <td>25</td>\n",
       "      <td>025</td>\n",
       "      <td>071101</td>\n",
       "    </tr>\n",
       "  </tbody>\n",
       "</table>\n",
       "</div>"
      ],
      "text/plain": [
       "  B19013_001E state county   tract\n",
       "0      132750    25    025  060501\n",
       "1       12759    25    025  061101\n",
       "2       84083    25    025  070101\n",
       "3       28851    25    025  070402\n",
       "4       52676    25    025  071101"
      ]
     },
     "execution_count": 14,
     "metadata": {},
     "output_type": "execute_result"
    }
   ],
   "source": [
    "median_income_df.head()"
   ]
  },
  {
   "cell_type": "markdown",
   "metadata": {},
   "source": [
    "# Add Median HH Income Data to land_parcel_df by comparing tract number"
   ]
  },
  {
   "cell_type": "code",
   "execution_count": 66,
   "metadata": {},
   "outputs": [
    {
     "data": {
      "text/html": [
       "<div>\n",
       "<style scoped>\n",
       "    .dataframe tbody tr th:only-of-type {\n",
       "        vertical-align: middle;\n",
       "    }\n",
       "\n",
       "    .dataframe tbody tr th {\n",
       "        vertical-align: top;\n",
       "    }\n",
       "\n",
       "    .dataframe thead th {\n",
       "        text-align: right;\n",
       "    }\n",
       "</style>\n",
       "<table border=\"1\" class=\"dataframe\">\n",
       "  <thead>\n",
       "    <tr style=\"text-align: right;\">\n",
       "      <th></th>\n",
       "      <th>index</th>\n",
       "      <th>objectid</th>\n",
       "      <th>mapc_id</th>\n",
       "      <th>muni_id</th>\n",
       "      <th>muni</th>\n",
       "      <th>parloc_id</th>\n",
       "      <th>poly_typ</th>\n",
       "      <th>map_num</th>\n",
       "      <th>mappar_id</th>\n",
       "      <th>loc_id_cnt</th>\n",
       "      <th>...</th>\n",
       "      <th>totv_pac</th>\n",
       "      <th>bldlnd_rat</th>\n",
       "      <th>sqm_imperv</th>\n",
       "      <th>sqm_bldg</th>\n",
       "      <th>sqm_pave</th>\n",
       "      <th>realesttyp</th>\n",
       "      <th>temp</th>\n",
       "      <th>shape</th>\n",
       "      <th>census_tract</th>\n",
       "      <th>median_hh_income</th>\n",
       "    </tr>\n",
       "  </thead>\n",
       "  <tbody>\n",
       "    <tr>\n",
       "      <td>0</td>\n",
       "      <td>2817</td>\n",
       "      <td>2792</td>\n",
       "      <td>2792</td>\n",
       "      <td>1</td>\n",
       "      <td>Abington</td>\n",
       "      <td>M_246722_873087</td>\n",
       "      <td>FEE</td>\n",
       "      <td>24</td>\n",
       "      <td>24_113</td>\n",
       "      <td>1.0</td>\n",
       "      <td>...</td>\n",
       "      <td>2.042666e+05</td>\n",
       "      <td>0.000000</td>\n",
       "      <td>13180.877519</td>\n",
       "      <td>124.119733</td>\n",
       "      <td>13056.757786</td>\n",
       "      <td>12.0</td>\n",
       "      <td>NaN</td>\n",
       "      <td>790000000F000000080010006A690000A1010000010000...</td>\n",
       "      <td>NaN</td>\n",
       "      <td>NaN</td>\n",
       "    </tr>\n",
       "    <tr>\n",
       "      <td>1</td>\n",
       "      <td>4707</td>\n",
       "      <td>4683</td>\n",
       "      <td>4683</td>\n",
       "      <td>1</td>\n",
       "      <td>Abington</td>\n",
       "      <td>M_242973_874629</td>\n",
       "      <td>TAX</td>\n",
       "      <td>36</td>\n",
       "      <td>NaN</td>\n",
       "      <td>1.0</td>\n",
       "      <td>...</td>\n",
       "      <td>1.477954e+04</td>\n",
       "      <td>0.013648</td>\n",
       "      <td>24995.422676</td>\n",
       "      <td>179.054199</td>\n",
       "      <td>24816.368477</td>\n",
       "      <td>12.0</td>\n",
       "      <td>NaN</td>\n",
       "      <td>79050000E6000000080118006A690000A1151300010000...</td>\n",
       "      <td>520202</td>\n",
       "      <td>NaN</td>\n",
       "    </tr>\n",
       "    <tr>\n",
       "      <td>2</td>\n",
       "      <td>5316</td>\n",
       "      <td>5290</td>\n",
       "      <td>20310</td>\n",
       "      <td>7</td>\n",
       "      <td>Amesbury</td>\n",
       "      <td>M_246978_955401</td>\n",
       "      <td>FEE</td>\n",
       "      <td>77</td>\n",
       "      <td>77-78</td>\n",
       "      <td>1.0</td>\n",
       "      <td>...</td>\n",
       "      <td>5.810426e+05</td>\n",
       "      <td>2.837285</td>\n",
       "      <td>5763.641017</td>\n",
       "      <td>1821.163525</td>\n",
       "      <td>3942.477492</td>\n",
       "      <td>0.0</td>\n",
       "      <td>NaN</td>\n",
       "      <td>9501000045000000080010006A690000BD051300010000...</td>\n",
       "      <td>266300</td>\n",
       "      <td>NaN</td>\n",
       "    </tr>\n",
       "    <tr>\n",
       "      <td>3</td>\n",
       "      <td>5713</td>\n",
       "      <td>5689</td>\n",
       "      <td>20709</td>\n",
       "      <td>7</td>\n",
       "      <td>Amesbury</td>\n",
       "      <td>M_246443_956046</td>\n",
       "      <td>FEE</td>\n",
       "      <td>53</td>\n",
       "      <td>53-195</td>\n",
       "      <td>1.0</td>\n",
       "      <td>...</td>\n",
       "      <td>3.752456e+06</td>\n",
       "      <td>2.291045</td>\n",
       "      <td>5494.661456</td>\n",
       "      <td>2634.261334</td>\n",
       "      <td>2860.400122</td>\n",
       "      <td>0.0</td>\n",
       "      <td>NaN</td>\n",
       "      <td>E100000021000000080010006A69000089031300010000...</td>\n",
       "      <td>266300</td>\n",
       "      <td>NaN</td>\n",
       "    </tr>\n",
       "    <tr>\n",
       "      <td>4</td>\n",
       "      <td>5742</td>\n",
       "      <td>5718</td>\n",
       "      <td>20738</td>\n",
       "      <td>7</td>\n",
       "      <td>Amesbury</td>\n",
       "      <td>M_246444_955991</td>\n",
       "      <td>FEE</td>\n",
       "      <td>65</td>\n",
       "      <td>65-88</td>\n",
       "      <td>1.0</td>\n",
       "      <td>...</td>\n",
       "      <td>2.285157e+06</td>\n",
       "      <td>1.990857</td>\n",
       "      <td>707.788419</td>\n",
       "      <td>514.385795</td>\n",
       "      <td>193.402625</td>\n",
       "      <td>0.0</td>\n",
       "      <td>NaN</td>\n",
       "      <td>3C00000005000000080010006A69000024031300010000...</td>\n",
       "      <td>266300</td>\n",
       "      <td>NaN</td>\n",
       "    </tr>\n",
       "  </tbody>\n",
       "</table>\n",
       "<p>5 rows × 54 columns</p>\n",
       "</div>"
      ],
      "text/plain": [
       "   index  objectid  mapc_id  muni_id      muni        parloc_id poly_typ  \\\n",
       "0   2817      2792     2792        1  Abington  M_246722_873087      FEE   \n",
       "1   4707      4683     4683        1  Abington  M_242973_874629      TAX   \n",
       "2   5316      5290    20310        7  Amesbury  M_246978_955401      FEE   \n",
       "3   5713      5689    20709        7  Amesbury  M_246443_956046      FEE   \n",
       "4   5742      5718    20738        7  Amesbury  M_246444_955991      FEE   \n",
       "\n",
       "  map_num mappar_id  loc_id_cnt  ...      totv_pac  bldlnd_rat    sqm_imperv  \\\n",
       "0      24    24_113         1.0  ...  2.042666e+05    0.000000  13180.877519   \n",
       "1      36       NaN         1.0  ...  1.477954e+04    0.013648  24995.422676   \n",
       "2      77     77-78         1.0  ...  5.810426e+05    2.837285   5763.641017   \n",
       "3      53    53-195         1.0  ...  3.752456e+06    2.291045   5494.661456   \n",
       "4      65     65-88         1.0  ...  2.285157e+06    1.990857    707.788419   \n",
       "\n",
       "      sqm_bldg      sqm_pave realesttyp  temp  \\\n",
       "0   124.119733  13056.757786       12.0   NaN   \n",
       "1   179.054199  24816.368477       12.0   NaN   \n",
       "2  1821.163525   3942.477492        0.0   NaN   \n",
       "3  2634.261334   2860.400122        0.0   NaN   \n",
       "4   514.385795    193.402625        0.0   NaN   \n",
       "\n",
       "                                               shape census_tract  \\\n",
       "0  790000000F000000080010006A690000A1010000010000...          NaN   \n",
       "1  79050000E6000000080118006A690000A1151300010000...       520202   \n",
       "2  9501000045000000080010006A690000BD051300010000...       266300   \n",
       "3  E100000021000000080010006A69000089031300010000...       266300   \n",
       "4  3C00000005000000080010006A69000024031300010000...       266300   \n",
       "\n",
       "  median_hh_income  \n",
       "0              NaN  \n",
       "1              NaN  \n",
       "2              NaN  \n",
       "3              NaN  \n",
       "4              NaN  \n",
       "\n",
       "[5 rows x 54 columns]"
      ]
     },
     "execution_count": 66,
     "metadata": {},
     "output_type": "execute_result"
    }
   ],
   "source": [
    "land_parcel_df.head()"
   ]
  },
  {
   "cell_type": "code",
   "execution_count": 95,
   "metadata": {},
   "outputs": [],
   "source": [
    "from statistics import mean\n",
    "\n",
    "# only check for land parcels that we were able to obtain tract numbers for\n",
    "for i in land_parcel_df[land_parcel_df['census_tract'].notna()].index:\n",
    "    tract = str(land_parcel_df.loc[i]['census_tract'])\n",
    "    median_hh_income = median_income_df[median_income_df['tract'] == tract]['B19013_001E']\n",
    "    \n",
    "    # ACS data is broken down by state > county > tract\n",
    "    # sometimes tract covered more than 1 county\n",
    "    # averaged the median incomes\n",
    "    if (len(median_hh_income) > 1):\n",
    "        median_hh_income = mean([int(m) for m in median_income_df[median_income_df['tract'] == tract]['B19013_001E'].values])\n",
    "    \n",
    "    try:\n",
    "        land_parcel_df.at[i, 'median_hh_income'] = median_hh_income\n",
    "    except:\n",
    "        print('Error at index: ', i)"
   ]
  },
  {
   "cell_type": "code",
   "execution_count": 98,
   "metadata": {},
   "outputs": [
    {
     "data": {
      "text/plain": [
       "1        89978.0\n",
       "2        70063.0\n",
       "3        70063.0\n",
       "4        70063.0\n",
       "5        72685.0\n",
       "          ...   \n",
       "3320    136741.0\n",
       "3321    105163.0\n",
       "3323    105163.0\n",
       "3324    105163.0\n",
       "3438    157923.0\n",
       "Name: median_hh_income, Length: 1167, dtype: float64"
      ]
     },
     "execution_count": 98,
     "metadata": {},
     "output_type": "execute_result"
    }
   ],
   "source": [
    "land_parcel_df[land_parcel_df['median_hh_income'].notna()]['median_hh_income']"
   ]
  }
 ],
 "metadata": {
  "kernelspec": {
   "display_name": "Python 3",
   "language": "python",
   "name": "python3"
  },
  "language_info": {
   "codemirror_mode": {
    "name": "ipython",
    "version": 3
   },
   "file_extension": ".py",
   "mimetype": "text/x-python",
   "name": "python",
   "nbconvert_exporter": "python",
   "pygments_lexer": "ipython3",
   "version": "3.7.4"
  }
 },
 "nbformat": 4,
 "nbformat_minor": 2
}

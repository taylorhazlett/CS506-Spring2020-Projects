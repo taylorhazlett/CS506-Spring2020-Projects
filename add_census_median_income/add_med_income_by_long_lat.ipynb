{
 "cells": [
  {
   "cell_type": "markdown",
   "metadata": {},
   "source": [
    "# Imports and Filter Definitions"
   ]
  },
  {
   "cell_type": "code",
   "execution_count": 26,
   "metadata": {},
   "outputs": [],
   "source": [
    "import pandas as pd\n",
    "import numpy as np\n",
    "import requests\n",
    "from pprint import pprint\n",
    "from datetime import datetime\n",
    "from statistics import mean"
   ]
  },
  {
   "cell_type": "markdown",
   "metadata": {},
   "source": [
    "# Test single request"
   ]
  },
  {
   "cell_type": "code",
   "execution_count": 2,
   "metadata": {},
   "outputs": [
    {
     "name": "stdout",
     "output_type": "stream",
     "text": [
      "{'result': {'geographies': {'Census Blocks': [{'AREALAND': 7941,\n",
      "                                               'AREAWATER': 0,\n",
      "                                               'BASENAME': '1018',\n",
      "                                               'BLKGRP': '1',\n",
      "                                               'BLOCK': '1018',\n",
      "                                               'CENTLAT': '+42.1270808',\n",
      "                                               'CENTLON': '-070.9408768',\n",
      "                                               'COUNTY': '023',\n",
      "                                               'FUNCSTAT': 'S',\n",
      "                                               'GEOID': '250235202011018',\n",
      "                                               'HU100': 0,\n",
      "                                               'INTPTLAT': '+42.1270808',\n",
      "                                               'INTPTLON': '-070.9408768',\n",
      "                                               'LSADC': 'BK',\n",
      "                                               'LWBLKTYP': 'L',\n",
      "                                               'MTFCC': 'G5040',\n",
      "                                               'NAME': 'Block 1018',\n",
      "                                               'OBJECTID': 4563327,\n",
      "                                               'OID': 210404040530470,\n",
      "                                               'POP100': 0,\n",
      "                                               'STATE': '25',\n",
      "                                               'SUFFIX': '',\n",
      "                                               'TRACT': '520201',\n",
      "                                               'UR': ''}]},\n",
      "            'input': {'benchmark': {'benchmarkDescription': 'Public Address '\n",
      "                                                            'Ranges - Census '\n",
      "                                                            '2010 Benchmark',\n",
      "                                    'benchmarkName': 'Public_AR_Census2010',\n",
      "                                    'id': '9',\n",
      "                                    'isDefault': False},\n",
      "                      'location': {'x': -70.9404278, 'y': 42.12665739},\n",
      "                      'vintage': {'id': '910',\n",
      "                                  'isDefault': True,\n",
      "                                  'vintageDescription': 'Census2010 Vintage - '\n",
      "                                                        'Census2010 Benchmark',\n",
      "                                  'vintageName': 'Census2010_Census2010'}}}}\n"
     ]
    }
   ],
   "source": [
    "# test single address request\n",
    "\n",
    "URL = \"https://geocoding.geo.census.gov/geocoder/geographies/coordinates?x=-70.9404278&\" + \\\n",
    "    \"y=42.12665739&benchmark=Public_AR_Census2010&vintage=Census2010_Census2010&layers=14\" + \\\n",
    "    \"&format=json\"\n",
    "  \n",
    "r = requests.get(url = URL)\n",
    "\n",
    "data = r.json()\n",
    "\n",
    "pprint(data)"
   ]
  },
  {
   "cell_type": "code",
   "execution_count": 4,
   "metadata": {},
   "outputs": [
    {
     "name": "stdout",
     "output_type": "stream",
     "text": [
      "520201\n"
     ]
    }
   ],
   "source": [
    "tract = data['result']['geographies']['Census Blocks'][0]['TRACT']\n",
    "print(tract)"
   ]
  },
  {
   "cell_type": "markdown",
   "metadata": {},
   "source": [
    "# Single Request Function Definition"
   ]
  },
  {
   "cell_type": "code",
   "execution_count": 10,
   "metadata": {},
   "outputs": [],
   "source": [
    "def get_tract_number(longitude, latitude):\n",
    "    '''\n",
    "        Makes a REST API request to Census Geocoder API and returns a tract number for a given address.\n",
    "        Inputs:\n",
    "            - addr_num = street number, can be a range of street numbers, e.g. 200-400\n",
    "            - addr_str = street name\n",
    "            - addr_zip = zip code\n",
    "            - city = city/town name\n",
    "        Note: addr_num, addr_str, and addr_zip OR (city/town + state) are required fields! If any are unavailable, then the request fails.\n",
    "            This is despite the API documentation stating that zip code is an optional field.\n",
    "    '''\n",
    "    URL = \"https://geocoding.geo.census.gov/geocoder/geographies/coordinates?x=\" + str(longitude) \\\n",
    "        + \"&y=\" + str(latitude) \\\n",
    "        + \"&benchmark=Public_AR_Census2010&vintage=Census2010_Census2010&layers=14&format=json\"\n",
    "\n",
    "    response = requests.get(url = URL)\n",
    "    tract = np.nan\n",
    "    \n",
    "    if (response.status_code == 200):\n",
    "        data = response.json()\n",
    "        # pprint(data)\n",
    "        if (len(data['result']['geographies']['Census Blocks']) > 0):\n",
    "            # if data['result']['addressMatches'][0]['geographies']['Census Blocks'][0]['TRACT']:\n",
    "            tract = data['result']['geographies']['Census Blocks'][0]['TRACT']\n",
    "    \n",
    "    return tract"
   ]
  },
  {
   "cell_type": "code",
   "execution_count": 11,
   "metadata": {},
   "outputs": [
    {
     "name": "stdout",
     "output_type": "stream",
     "text": [
      "520201\n"
     ]
    }
   ],
   "source": [
    "# test function\n",
    "\n",
    "print(get_tract_number(-70.9404278, 42.12665739))"
   ]
  },
  {
   "cell_type": "markdown",
   "metadata": {},
   "source": [
    "# Main program"
   ]
  },
  {
   "cell_type": "code",
   "execution_count": 12,
   "metadata": {},
   "outputs": [],
   "source": [
    "df = pd.read_csv('../../output csv files/state_land_plus_long_lat.csv', \\\n",
    "                 dtype={'addr_zip': np.string_}) # zip codes need to be imported as string in order to retain leading 0"
   ]
  },
  {
   "cell_type": "code",
   "execution_count": 14,
   "metadata": {},
   "outputs": [
    {
     "data": {
      "text/plain": [
       "index            int64\n",
       "objectid         int64\n",
       "mapc_id          int64\n",
       "muni_id          int64\n",
       "muni            object\n",
       "parloc_id       object\n",
       "poly_typ        object\n",
       "map_num         object\n",
       "mappar_id       object\n",
       "loc_id_cnt     float64\n",
       "land_value     float64\n",
       "bldg_value     float64\n",
       "othr_value     float64\n",
       "total_value    float64\n",
       "ls_price       float64\n",
       "ls_date         object\n",
       "bldg_area      float64\n",
       "res_area       float64\n",
       "luc_1           object\n",
       "luc_2           object\n",
       "luc_adj_1      float64\n",
       "luc_adj_2      float64\n",
       "num_units      float64\n",
       "units_est      float64\n",
       "units_src       object\n",
       "num_rooms      float64\n",
       "yr_built       float64\n",
       "site_addr       object\n",
       "addr_str        object\n",
       "addr_num        object\n",
       "addr_zip        object\n",
       "owner_name      object\n",
       "owner_addr      object\n",
       "owner_city      object\n",
       "owner_stat      object\n",
       "owner_zip       object\n",
       "fy             float64\n",
       "lot_areaft     float64\n",
       "far            float64\n",
       "pct_imperv     float64\n",
       "pct_bldg       float64\n",
       "pct_pave       float64\n",
       "landv_pac      float64\n",
       "bldgv_psf      float64\n",
       "totv_pac       float64\n",
       "bldlnd_rat     float64\n",
       "sqm_imperv     float64\n",
       "sqm_bldg       float64\n",
       "sqm_pave       float64\n",
       "realesttyp     float64\n",
       "temp           float64\n",
       "shape           object\n",
       "longitude      float64\n",
       "latitude       float64\n",
       "dtype: object"
      ]
     },
     "execution_count": 14,
     "metadata": {},
     "output_type": "execute_result"
    }
   ],
   "source": [
    "df.dtypes # check to confirm that longitude and latitude are float by default"
   ]
  },
  {
   "cell_type": "code",
   "execution_count": 16,
   "metadata": {},
   "outputs": [],
   "source": [
    "# can ignore this block because we already reset the indices when we did the coordinate conversion\n",
    "\n",
    "# # reset indices in order to refer to rows by index in for loop below\n",
    "# # keeps original index values in new column 'index'\n",
    "# land_parcel_df = land_parcel_df.reset_index()"
   ]
  },
  {
   "cell_type": "code",
   "execution_count": 16,
   "metadata": {},
   "outputs": [],
   "source": [
    "df['census_tract'] = np.nan"
   ]
  },
  {
   "cell_type": "code",
   "execution_count": 17,
   "metadata": {},
   "outputs": [
    {
     "name": "stdout",
     "output_type": "stream",
     "text": [
      "Step:  0\n",
      "Current Time = 12:23:09\n",
      "Step:  100\n",
      "Current Time = 12:23:34\n",
      "Step:  200\n",
      "Current Time = 12:23:59\n",
      "Step:  300\n",
      "Current Time = 12:24:25\n",
      "Step:  400\n",
      "Current Time = 12:24:50\n",
      "Step:  500\n",
      "Current Time = 12:25:16\n",
      "Step:  600\n",
      "Current Time = 12:25:41\n",
      "Step:  700\n",
      "Current Time = 12:26:07\n",
      "Step:  800\n",
      "Current Time = 12:26:33\n",
      "Step:  900\n",
      "Current Time = 12:26:58\n",
      "Step:  1000\n",
      "Current Time = 12:27:25\n",
      "Step:  1100\n",
      "Current Time = 12:27:51\n",
      "Step:  1200\n",
      "Current Time = 12:28:18\n",
      "Step:  1300\n",
      "Current Time = 12:28:44\n",
      "Step:  1400\n",
      "Current Time = 12:29:10\n",
      "Step:  1500\n",
      "Current Time = 12:29:40\n",
      "Step:  1600\n",
      "Current Time = 12:30:09\n",
      "Step:  1700\n",
      "Current Time = 12:30:36\n",
      "Step:  1800\n",
      "Current Time = 12:31:01\n",
      "Step:  1900\n",
      "Current Time = 12:31:27\n",
      "Step:  2000\n",
      "Current Time = 12:31:55\n",
      "Step:  2100\n",
      "Current Time = 12:32:21\n",
      "Step:  2200\n",
      "Current Time = 12:32:47\n",
      "Step:  2300\n",
      "Current Time = 12:33:15\n",
      "Step:  2400\n",
      "Current Time = 12:33:42\n",
      "Step:  2500\n",
      "Current Time = 12:34:09\n",
      "Step:  2600\n",
      "Current Time = 12:34:34\n",
      "Step:  2700\n",
      "Current Time = 12:34:59\n",
      "Step:  2800\n",
      "Current Time = 12:35:27\n",
      "Step:  2900\n",
      "Current Time = 12:35:55\n",
      "Step:  3000\n",
      "Current Time = 12:36:22\n",
      "Step:  3100\n",
      "Current Time = 12:36:47\n",
      "Step:  3200\n",
      "Current Time = 12:37:14\n",
      "Step:  3300\n",
      "Current Time = 12:37:41\n",
      "Step:  3400\n",
      "Current Time = 12:38:07\n",
      "Step:  3500\n",
      "Current Time = 12:38:33\n",
      "Step:  3600\n",
      "Current Time = 12:39:00\n",
      "Step:  3700\n",
      "Current Time = 12:39:26\n",
      "Step:  3800\n",
      "Current Time = 12:39:53\n",
      "Step:  3900\n",
      "Current Time = 12:40:19\n",
      "Step:  4000\n",
      "Current Time = 12:40:45\n",
      "Step:  4100\n",
      "Current Time = 12:41:09\n",
      "Step:  4200\n",
      "Current Time = 12:41:37\n",
      "Step:  4300\n",
      "Current Time = 12:42:03\n",
      "Step:  4400\n",
      "Current Time = 12:42:28\n",
      "Step:  4500\n",
      "Current Time = 12:42:57\n",
      "Step:  4600\n",
      "Current Time = 12:43:25\n",
      "Step:  4700\n",
      "Current Time = 12:43:56\n",
      "Step:  4800\n",
      "Current Time = 12:44:23\n",
      "Step:  4900\n",
      "Current Time = 12:44:50\n",
      "Step:  5000\n",
      "Current Time = 12:45:19\n",
      "Step:  5100\n",
      "Current Time = 12:45:45\n",
      "Step:  5200\n",
      "Current Time = 12:46:14\n",
      "Step:  5300\n",
      "Current Time = 12:46:41\n",
      "Step:  5400\n",
      "Current Time = 12:47:10\n",
      "Step:  5500\n",
      "Current Time = 12:47:37\n",
      "Step:  5600\n",
      "Current Time = 12:48:04\n",
      "Step:  5700\n",
      "Current Time = 12:48:28\n",
      "Step:  5800\n",
      "Current Time = 12:48:53\n",
      "Step:  5900\n",
      "Current Time = 12:49:22\n",
      "Step:  6000\n",
      "Current Time = 12:49:49\n",
      "Step:  6100\n",
      "Current Time = 12:50:17\n",
      "Step:  6200\n",
      "Current Time = 12:50:42\n",
      "Step:  6300\n",
      "Current Time = 12:51:08\n",
      "Step:  6400\n",
      "Current Time = 12:51:37\n",
      "Step:  6500\n",
      "Current Time = 12:52:05\n",
      "Step:  6600\n",
      "Current Time = 12:52:34\n",
      "Step:  6700\n",
      "Current Time = 12:53:04\n",
      "Step:  6800\n",
      "Current Time = 12:53:34\n",
      "Step:  6900\n",
      "Current Time = 12:54:04\n",
      "Step:  7000\n",
      "Current Time = 12:54:32\n",
      "Step:  7100\n",
      "Current Time = 12:54:59\n",
      "Step:  7200\n",
      "Current Time = 12:55:30\n",
      "Step:  7300\n",
      "Current Time = 12:55:56\n",
      "Step:  7400\n",
      "Current Time = 12:56:21\n",
      "Step:  7500\n",
      "Current Time = 12:56:49\n",
      "Step:  7600\n",
      "Current Time = 12:57:17\n",
      "Step:  7700\n",
      "Current Time = 12:57:43\n"
     ]
    }
   ],
   "source": [
    "for i in range(len(df)):\n",
    "    x = df.at[i, 'longitude'] \n",
    "    y = df.at[i, 'latitude']\n",
    "\n",
    "    if (i % 100 == 0):\n",
    "        print('Step: ', i)\n",
    "        print(\"Current Time =\", datetime.now().strftime(\"%H:%M:%S\"))\n",
    "\n",
    "    # check for any blanks or nan values\n",
    "    if not ((not x or x == np.nan or x == 'nan') \\\n",
    "        or (not y or y == np.nan or y == 'nan')):\n",
    "            try:\n",
    "                tract = get_tract_number(x,y)\n",
    "                df.at[i, 'census_tract'] = tract\n",
    "            except:\n",
    "                print('Error at step: ', i)"
   ]
  },
  {
   "cell_type": "code",
   "execution_count": 20,
   "metadata": {},
   "outputs": [
    {
     "data": {
      "text/plain": [
       "0       520201.0\n",
       "1       520100.0\n",
       "2       520100.0\n",
       "3       520202.0\n",
       "4       520202.0\n",
       "          ...   \n",
       "7714    220102.0\n",
       "7715    220102.0\n",
       "7716    220102.0\n",
       "7717    220101.0\n",
       "7718    220102.0\n",
       "Name: census_tract, Length: 7719, dtype: float64"
      ]
     },
     "execution_count": 20,
     "metadata": {},
     "output_type": "execute_result"
    }
   ],
   "source": [
    "df.loc[df['census_tract'].notna(), 'census_tract']"
   ]
  },
  {
   "cell_type": "markdown",
   "metadata": {},
   "source": [
    "# Obtain Median Household Income Estimate by Census Tract for MA"
   ]
  },
  {
   "cell_type": "code",
   "execution_count": 21,
   "metadata": {},
   "outputs": [],
   "source": [
    "def get_median_hh_income():\n",
    "    '''\n",
    "    Returns Pandas DataFrame representation Median Household Income Estimate by Census Tract for MA.\n",
    "    American Community Survey (ACS) 2018 Census data used.\n",
    "    Specific table: ACS 2018 5-year detailed table \"B19013_001E\"\n",
    "    '''\n",
    "    URL = \"https://api.census.gov/data/2018/acs/acs5?get=B19013_001E&for=tract:*&in=state:25\"\n",
    "  \n",
    "    response = requests.get(url = URL)\n",
    "    data = response.json()\n",
    "\n",
    "    # pprint(data)\n",
    "    \n",
    "    median_income_df = pd.DataFrame(data[1:len(data)-1], columns = data[0])\n",
    "    \n",
    "    return median_income_df"
   ]
  },
  {
   "cell_type": "code",
   "execution_count": 22,
   "metadata": {},
   "outputs": [],
   "source": [
    "median_income_df = get_median_hh_income()"
   ]
  },
  {
   "cell_type": "code",
   "execution_count": 23,
   "metadata": {},
   "outputs": [
    {
     "data": {
      "text/html": [
       "<div>\n",
       "<style scoped>\n",
       "    .dataframe tbody tr th:only-of-type {\n",
       "        vertical-align: middle;\n",
       "    }\n",
       "\n",
       "    .dataframe tbody tr th {\n",
       "        vertical-align: top;\n",
       "    }\n",
       "\n",
       "    .dataframe thead th {\n",
       "        text-align: right;\n",
       "    }\n",
       "</style>\n",
       "<table border=\"1\" class=\"dataframe\">\n",
       "  <thead>\n",
       "    <tr style=\"text-align: right;\">\n",
       "      <th></th>\n",
       "      <th>B19013_001E</th>\n",
       "      <th>state</th>\n",
       "      <th>county</th>\n",
       "      <th>tract</th>\n",
       "    </tr>\n",
       "  </thead>\n",
       "  <tbody>\n",
       "    <tr>\n",
       "      <th>0</th>\n",
       "      <td>132750</td>\n",
       "      <td>25</td>\n",
       "      <td>025</td>\n",
       "      <td>060501</td>\n",
       "    </tr>\n",
       "    <tr>\n",
       "      <th>1</th>\n",
       "      <td>12759</td>\n",
       "      <td>25</td>\n",
       "      <td>025</td>\n",
       "      <td>061101</td>\n",
       "    </tr>\n",
       "    <tr>\n",
       "      <th>2</th>\n",
       "      <td>84083</td>\n",
       "      <td>25</td>\n",
       "      <td>025</td>\n",
       "      <td>070101</td>\n",
       "    </tr>\n",
       "    <tr>\n",
       "      <th>3</th>\n",
       "      <td>28851</td>\n",
       "      <td>25</td>\n",
       "      <td>025</td>\n",
       "      <td>070402</td>\n",
       "    </tr>\n",
       "    <tr>\n",
       "      <th>4</th>\n",
       "      <td>52676</td>\n",
       "      <td>25</td>\n",
       "      <td>025</td>\n",
       "      <td>071101</td>\n",
       "    </tr>\n",
       "  </tbody>\n",
       "</table>\n",
       "</div>"
      ],
      "text/plain": [
       "  B19013_001E state county   tract\n",
       "0      132750    25    025  060501\n",
       "1       12759    25    025  061101\n",
       "2       84083    25    025  070101\n",
       "3       28851    25    025  070402\n",
       "4       52676    25    025  071101"
      ]
     },
     "execution_count": 23,
     "metadata": {},
     "output_type": "execute_result"
    }
   ],
   "source": [
    "median_income_df.head()"
   ]
  },
  {
   "cell_type": "code",
   "execution_count": 24,
   "metadata": {},
   "outputs": [],
   "source": [
    "# median_income_df.to_csv('ma_med_income_tract.csv',index=False)"
   ]
  },
  {
   "cell_type": "markdown",
   "metadata": {},
   "source": [
    "# Add Median HH Income Data to land_parcel_df by comparing tract number"
   ]
  },
  {
   "cell_type": "code",
   "execution_count": 25,
   "metadata": {},
   "outputs": [
    {
     "data": {
      "text/plain": [
       "1039    83110\n",
       "Name: B19013_001E, dtype: object"
      ]
     },
     "execution_count": 25,
     "metadata": {},
     "output_type": "execute_result"
    }
   ],
   "source": [
    "median_income_df[median_income_df['tract'] == tract]['B19013_001E']"
   ]
  },
  {
   "cell_type": "code",
   "execution_count": 30,
   "metadata": {},
   "outputs": [],
   "source": [
    "# only check for land parcels that we were able to obtain tract numbers for\n",
    "for i in df[df['census_tract'].notna()].index:\n",
    "    tract = df.loc[i]['census_tract']\n",
    "    median_hh_income = median_income_df[median_income_df['tract'] == str(int(tract))]['B19013_001E']\n",
    "    \n",
    "    # ACS data is broken down by state > county > tract\n",
    "    # sometimes tract covered more than 1 county\n",
    "    # averaged the median incomes\n",
    "    # print(len(median_hh_income))\n",
    "    if (len(median_hh_income) > 1):\n",
    "        median_hh_income = mean([int(m) for m in median_income_df[median_income_df['tract'] == tract]['B19013_001E'].values])\n",
    "    \n",
    "    try:\n",
    "        df.at[i, 'median_hh_income'] = median_hh_income\n",
    "    except:\n",
    "        print('Error at index: ', i)"
   ]
  },
  {
   "cell_type": "code",
   "execution_count": 32,
   "metadata": {},
   "outputs": [
    {
     "data": {
      "text/plain": [
       "0        75089.0\n",
       "1       103527.0\n",
       "2       103527.0\n",
       "3        89978.0\n",
       "4        89978.0\n",
       "          ...   \n",
       "7714     83110.0\n",
       "7715     83110.0\n",
       "7716     83110.0\n",
       "7717     79313.0\n",
       "7718     83110.0\n",
       "Name: median_hh_income, Length: 7719, dtype: float64"
      ]
     },
     "execution_count": 32,
     "metadata": {},
     "output_type": "execute_result"
    }
   ],
   "source": [
    "df.loc[df['median_hh_income'].notna(), 'median_hh_income']"
   ]
  },
  {
   "cell_type": "code",
   "execution_count": 33,
   "metadata": {},
   "outputs": [],
   "source": [
    "df.to_csv('state_land_plus_med_income.csv',index=False)"
   ]
  }
 ],
 "metadata": {
  "kernelspec": {
   "display_name": "Python 3",
   "language": "python",
   "name": "python3"
  },
  "language_info": {
   "codemirror_mode": {
    "name": "ipython",
    "version": 3
   },
   "file_extension": ".py",
   "mimetype": "text/x-python",
   "name": "python",
   "nbconvert_exporter": "python",
   "pygments_lexer": "ipython3",
   "version": "3.7.4"
  }
 },
 "nbformat": 4,
 "nbformat_minor": 2
}
